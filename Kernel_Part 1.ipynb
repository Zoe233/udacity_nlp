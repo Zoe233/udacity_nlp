{
 "cells": [
  {
   "cell_type": "markdown",
   "metadata": {},
   "source": [
    "# 核心课程 \n",
    "## Part 1 Introduction to Natural Language Processing"
   ]
  },
  {
   "cell_type": "markdown",
   "metadata": {},
   "source": [
    "This section provides an overview of the program and introduces the fundamentals of Natural Language Processing through symbolic manipulation, including text cleaning, normalization, and tokenization. You'll then build a part of speech tagger using hidden Markov models."
   ]
  },
  {
   "cell_type": "markdown",
   "metadata": {},
   "source": [
    "项目：<a> Part of Speech Tagging</a>"
   ]
  },
  {
   "cell_type": "markdown",
   "metadata": {},
   "source": [
    "### Overview\n",
    "- Welcome to Natural Language Processing\n",
    "- Udacity Support \n",
    "- Intro to NLP\n",
    "- Text Processing\n",
    "- Spam Classifier with Naive Bayes\n",
    "- Part of Speech Tagging with HMMs\n",
    "- Project: Part of Speech Tagging"
   ]
  },
  {
   "cell_type": "markdown",
   "metadata": {},
   "source": [
    "---"
   ]
  },
  {
   "cell_type": "markdown",
   "metadata": {},
   "source": [
    "### 3. Intro to NLP"
   ]
  },
  {
   "cell_type": "markdown",
   "metadata": {},
   "source": [
    "#### 3.1 结构化语言(Structured Languages)：为什么计算机理解我们很难呢？ \n",
    "人类语言的一大缺陷，依赖于你观察方法的特征，是缺乏准确定义的结构。 \n",
    "\n",
    "为了理解困难的原因，我们首先观察更具**结构化的语言**。 \n",
    "\n",
    "例如：    \n",
    "**数学使用一种结构化语言**，当我写出y=2x+5时，我想表达的意思是非常清晰的。  \n",
    "我的意思是变量y与变量x的相关性是 2x+5，**形式逻辑也使用结构语言**。 \n",
    "\n"
   ]
  },
  {
   "cell_type": "markdown",
   "metadata": {},
   "source": [
    "例如：  \n",
    "考虑表达式父系(x,y)和父系(x,z)得到同层(y,z)，这个语句表明如果x是y的父系且x是z的父系，那么y和z是同层。\n",
    "\n",
    "<img src='./images/part1_001.png' width='70%'/>\n",
    "\n"
   ]
  },
  {
   "cell_type": "markdown",
   "metadata": {},
   "source": [
    "你熟悉的结构化语言，是**脚本语言和编程语言**。\n",
    "\n",
    "思考这个SQL语句：\n",
    "> SELECT name, email FROM users WHERE name LIKE A%\n",
    "\n",
    "我们询问数据库 姓名以\"A\"开头，所有用户的姓名和电子邮箱地址。\n",
    "\n",
    "这些语言的设计，要尽可能清晰，适合计算机处理。"
   ]
  },
  {
   "cell_type": "markdown",
   "metadata": {},
   "source": [
    "#### 3.2 语法Grammar\n",
    "对计算机而言，结构化语言容易分析和理解。   \n",
    "\n",
    "因为它们受到一套严格规则或语法的定义，这是表达语法和算法的标准形式。\n",
    "\n",
    "可以恰当地分析形成后的语句，理解它的确切含义。\n",
    " \n",
    "如果一个语句与既定语法不匹配，通常计算机无法猜测意思，它就会放弃。\n",
    "这样违反语法规则会报告为语法错误。"
   ]
  },
  {
   "cell_type": "markdown",
   "metadata": {},
   "source": [
    "\n",
    "<img src='./images/part1_002.png' width='50%'/>\n",
    "\n"
   ]
  },
  {
   "cell_type": "markdown",
   "metadata": {},
   "source": [
    "#### 3.3 非结构化文本Unstructured Text"
   ]
  },
  {
   "cell_type": "markdown",
   "metadata": {},
   "source": [
    "我们用来交流的语言也界定了语法规则，实际上在一些情况下 我们使用**简单的结构化语句**。  \n",
    "\n",
    "不过大部分人类交谈很复杂，**非结构化**。\n",
    "\n",
    "尽管如此，我们似乎非常善于了解彼此，甚至这种模棱两可在某种程度上受到欢迎。"
   ]
  },
  {
   "cell_type": "markdown",
   "metadata": {},
   "source": [
    "**那么计算机如何理解非结构化文本呢？**\n",
    "\n",
    "这是一些基本的想法。\n",
    "计算机可以在一定程度上处理词语和短语，试图找出\n",
    "- **关键词**\n",
    "- **词性**\n",
    "- **命名实体**\n",
    "- **日期和数量**等。\n"
   ]
  },
  {
   "cell_type": "markdown",
   "metadata": {},
   "source": [
    "\n",
    "<img src='./images/part1_003.png' width='30%'/>"
   ]
  },
  {
   "cell_type": "markdown",
   "metadata": {},
   "source": [
    "使用这些信息他们也可以分析语句，至少有一项相对比较结构化，这可以帮助提取语句,问题和指令的相关部分。"
   ]
  },
  {
   "cell_type": "markdown",
   "metadata": {},
   "source": [
    "从更高级来说，计算机可以\n",
    "- 分析文件\n",
    "- 找出常见词和罕见词\n",
    "- 评估所表达的整体语气或情感\n",
    "- 甚至可以对相似文件进行分类或分组"
   ]
  },
  {
   "cell_type": "markdown",
   "metadata": {},
   "source": [
    "<img src='./images/part1_003.png' width='30%'/>"
   ]
  },
  {
   "cell_type": "markdown",
   "metadata": {},
   "source": [
    "你可以想象根据上面这些观点，计算机可以对非结构文本进行进行各种事情，即使它们并不像我们一样理解文本。"
   ]
  },
  {
   "cell_type": "markdown",
   "metadata": {},
   "source": []
  }
 ],
 "metadata": {
  "kernelspec": {
   "display_name": "Python 3",
   "language": "python",
   "name": "python3"
  },
  "language_info": {
   "codemirror_mode": {
    "name": "ipython",
    "version": 3
   },
   "file_extension": ".py",
   "mimetype": "text/x-python",
   "name": "python",
   "nbconvert_exporter": "python",
   "pygments_lexer": "ipython3",
   "version": "3.6.5"
  }
 },
 "nbformat": 4,
 "nbformat_minor": 2
}
