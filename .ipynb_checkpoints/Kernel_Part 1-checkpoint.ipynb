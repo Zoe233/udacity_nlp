{
 "cells": [
  {
   "cell_type": "markdown",
   "metadata": {},
   "source": [
    "# 核心课程 \n",
    "## Part 1 Introduction to Natural Language Processing"
   ]
  },
  {
   "cell_type": "markdown",
   "metadata": {},
   "source": [
    "This section provides an overview of the program and introduces the fundamentals of Natural Language Processing through symbolic manipulation, including text cleaning, normalization, and tokenization. You'll then build a part of speech tagger using hidden Markov models."
   ]
  },
  {
   "cell_type": "markdown",
   "metadata": {},
   "source": [
    "项目：<a> Part of Speech Tagging</a>"
   ]
  },
  {
   "cell_type": "markdown",
   "metadata": {},
   "source": [
    "### Overview\n",
    "- Welcome to Natural Language Processing\n",
    "- Udacity Support \n",
    "- Intro to NLP\n",
    "- Text Processing\n",
    "- Spam Classifier with Naive Bayes\n",
    "- Part of Speech Tagging with HMMs\n",
    "- Project: Part of Speech Tagging"
   ]
  },
  {
   "cell_type": "markdown",
   "metadata": {},
   "source": [
    "---"
   ]
  },
  {
   "cell_type": "markdown",
   "metadata": {},
   "source": [
    "### 3. Intro to NLP"
   ]
  },
  {
   "cell_type": "markdown",
   "metadata": {},
   "source": [
    "#### 3.1 为什么计算机理解我们很难呢？ \n",
    "人类语言的一大缺陷，依赖于你观察方法的特征，是缺乏准确定义的结构。 \n",
    "\n",
    "为了理解困难的原因，我们首先观察更具**结构化的语言**。 \n",
    "\n",
    "例如：    \n",
    "**数学使用一种结构化语言**，当我写出y=2x+5时，我想表达的意思是非常清晰的。  \n",
    "我的意思是变量y与变量x的相关性是 2x+5，**形式逻辑也使用结构语言**。 \n",
    "\n"
   ]
  },
  {
   "cell_type": "markdown",
   "metadata": {},
   "source": [
    "例如：  \n",
    "考虑表达式父系(x,y)和父系(x,z)得到同层(y,z)，这个语句表明如果x是y的父系且x是z的父系，那么y和z是同层。\n",
    "\n",
    "<img src='./images/part1_001.png' width='70%'/>\n",
    "\n"
   ]
  },
  {
   "cell_type": "markdown",
   "metadata": {},
   "source": [
    "你熟悉的结构化语言，是**脚本语言和编程语言**。\n",
    "\n",
    "思考这个SQL语句：\n",
    "> SELECT name, email FROM users WHERE name LIKE A%\n",
    "\n",
    "我们询问数据库 姓名以\"A\"开头，所有用户的姓名和电子邮箱地址。\n",
    "\n",
    "这些语言的设计，要尽可能清晰，适合计算机处理。"
   ]
  },
  {
   "cell_type": "markdown",
   "metadata": {},
   "source": [
    "### 3.2 语法\n",
    "对计算机而言，结构化语言容易分析和理解。   \n",
    "\n",
    "因为它们受到一套严格规则或语法的定义，这是表达语法和算法的标准形式。\n",
    "\n",
    "可以恰当地分析形成后的语句，理解它的确切含义。\n",
    " \n",
    "如果一个语句与既定语法不匹配，通常计算机无法猜测意思，它就会放弃。\n",
    "这样违反语法规则会报告为语法错误。"
   ]
  },
  {
   "cell_type": "markdown",
   "metadata": {},
   "source": [
    "\n",
    "<img src='./images/part1_002.png' width='50%'/>\n",
    "\n"
   ]
  },
  {
   "cell_type": "markdown",
   "metadata": {},
   "source": []
  },
  {
   "cell_type": "markdown",
   "metadata": {},
   "source": []
  },
  {
   "cell_type": "markdown",
   "metadata": {},
   "source": []
  },
  {
   "cell_type": "markdown",
   "metadata": {},
   "source": []
  },
  {
   "cell_type": "markdown",
   "metadata": {},
   "source": []
  },
  {
   "cell_type": "code",
   "execution_count": null,
   "metadata": {},
   "outputs": [],
   "source": []
  },
  {
   "cell_type": "code",
   "execution_count": null,
   "metadata": {},
   "outputs": [],
   "source": []
  },
  {
   "cell_type": "code",
   "execution_count": null,
   "metadata": {},
   "outputs": [],
   "source": []
  },
  {
   "cell_type": "code",
   "execution_count": null,
   "metadata": {},
   "outputs": [],
   "source": []
  }
 ],
 "metadata": {
  "kernelspec": {
   "display_name": "Python 3",
   "language": "python",
   "name": "python3"
  },
  "language_info": {
   "codemirror_mode": {
    "name": "ipython",
    "version": 3
   },
   "file_extension": ".py",
   "mimetype": "text/x-python",
   "name": "python",
   "nbconvert_exporter": "python",
   "pygments_lexer": "ipython3",
   "version": "3.6.5"
  }
 },
 "nbformat": 4,
 "nbformat_minor": 2
}
